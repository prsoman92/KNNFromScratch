{
 "cells": [
  {
   "cell_type": "markdown",
   "metadata": {},
   "source": [
    "# KNN From Scratch\n",
    "\n",
    "This is the code for implementing K-Nearest Neighbor Algorithm from scratch"
   ]
  },
  {
   "cell_type": "code",
   "execution_count": 2,
   "metadata": {
    "collapsed": true
   },
   "outputs": [],
   "source": [
    "# Import Packages\n",
    "import pandas as pd\n",
    "import numpy as np\n",
    "import matplotlib.pyplot as plt\n",
    "%matplotlib inline"
   ]
  },
  {
   "cell_type": "markdown",
   "metadata": {},
   "source": [
    "## KNN Theory\n",
    "\n",
    "K-Nearest Neighbors Algorithm is a classification model that is based on the principles on Bayes Classifier. In this algorithm we predict the class to which a data point belong to based on the classes that its 'k' nearest neighbors belong to. In this case the value of k can be anything between 1 to (n-1) "
   ]
  },
  {
   "cell_type": "markdown",
   "metadata": {},
   "source": [
    "## KNN Practical\n",
    "\n",
    "**Steps to implement KNN:**\n",
    "- Input: Training Data, Testing Data, value of 'k'\n",
    "- Output: Prediction of class\n",
    "\n",
    "**Algorithm Pseudo Code:**\n",
    "\n",
    "- for each test_data_point in test dataset\n",
    "    - Take Eucledian distance between the test data point and all the training data points\n",
    "    - Sort by distance\n",
    "    - Depending on the value of k, consider the first 'k' nearest points depending on the distance calculated\n",
    "    - Find the probability of classes for the 'k' data points\n",
    "    - Assign the class with the highest probability as the prediction"
   ]
  },
  {
   "cell_type": "code",
   "execution_count": 137,
   "metadata": {
    "collapsed": true
   },
   "outputs": [],
   "source": [
    "def EU_dist(X,Y):\n",
    "    diff=X-Y\n",
    "    diff_sq=diff*diff\n",
    "    row_sum=diff_sq.values.sum()\n",
    "    return np.sqrt(row_sum)\n",
    "\n",
    "def KNN(X_train, X_test, Y_train, k):\n",
    "    prediction = []\n",
    "    for i in range(X_test.shape[0]):\n",
    "        row_test=X_test.iloc[i,:]\n",
    "        \n",
    "        dist=[]\n",
    "        for j in range(X_train.shape[0]):\n",
    "            row_train=X_train.iloc[j,:]\n",
    "            dist.append(EU_dist(row_train, row_test))\n",
    "        Y_train = pd.DataFrame(Y_train)\n",
    "        Y_train['Distance'] = dist\n",
    "        Y_train.sort_values(by=['Distance'],inplace=True)\n",
    "        Y_train.drop('Distance',axis=1,inplace=True)\n",
    "        unique, counts = np.unique(Y_train[0:k], return_counts=True)\n",
    "        ind=np.argmax(counts)\n",
    "        prediction.append(unique[ind])\n",
    "        \n",
    "    return prediction"
   ]
  },
  {
   "cell_type": "markdown",
   "metadata": {},
   "source": [
    "## Testing the outcome\n",
    "\n",
    "We will first try it out with a simple dataset to see if the model is working."
   ]
  },
  {
   "cell_type": "code",
   "execution_count": 142,
   "metadata": {
    "collapsed": true
   },
   "outputs": [],
   "source": [
    "# INitialize the test and train datasets\n",
    "d = {'X1': [0,2,0,0,-1,1], 'X2': [3,0,1,1,0,1], 'X3':[0,0,3,2,1,1], 'Y': ['Red','Red','Red','Green','Green','Red']}\n",
    "train=pd.DataFrame(data=d)\n",
    "X_train=train.drop('Y',axis=1)\n",
    "Y_train=train['Y']\n",
    "\n",
    "d={'X1': [0], 'X2': [0], 'X3':[0]}\n",
    "test=pd.DataFrame(data=d)"
   ]
  },
  {
   "cell_type": "code",
   "execution_count": 143,
   "metadata": {},
   "outputs": [
    {
     "name": "stdout",
     "output_type": "stream",
     "text": [
      "Prediction for the 1st Test data is :  ['Green']\n"
     ]
    }
   ],
   "source": [
    "print \"Prediction for the Test data with K=1 is : \", (KNN(X_train, test,Y_train,1))"
   ]
  },
  {
   "cell_type": "code",
   "execution_count": 144,
   "metadata": {},
   "outputs": [
    {
     "name": "stdout",
     "output_type": "stream",
     "text": [
      "Prediction for the Test data with K=3 is :  ['Red']\n"
     ]
    }
   ],
   "source": [
    "print \"Prediction for the Test data with K=3 is : \", (KNN(X_train, test,Y_train,3))"
   ]
  }
 ],
 "metadata": {
  "kernelspec": {
   "display_name": "Python 2",
   "language": "python",
   "name": "python2"
  },
  "language_info": {
   "codemirror_mode": {
    "name": "ipython",
    "version": 2
   },
   "file_extension": ".py",
   "mimetype": "text/x-python",
   "name": "python",
   "nbconvert_exporter": "python",
   "pygments_lexer": "ipython2",
   "version": "2.7.14"
  }
 },
 "nbformat": 4,
 "nbformat_minor": 2
}
